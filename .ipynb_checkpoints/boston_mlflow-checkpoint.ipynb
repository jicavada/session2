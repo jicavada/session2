{
 "cells": [
  {
   "cell_type": "code",
   "execution_count": 1,
   "metadata": {},
   "outputs": [],
   "source": [
    "import pandas as pd\n",
    "from sklearn.datasets import load_boston\n",
    "from sklearn.model_selection import train_test_split\n",
    "from sklearn.linear_model import ElasticNet\n",
    "from sklearn.metrics import mean_absolute_error\n",
    "from sklearn.metrics import mean_squared_error\n",
    "from sklearn.metrics import r2_score\n",
    "import numpy as np\n",
    "import matplotlib.pyplot as plt\n",
    "import mlflow\n",
    "import mlflow.sklearn\n",
    "import shutil  \n",
    "import os"
   ]
  },
  {
   "cell_type": "code",
   "execution_count": 2,
   "metadata": {},
   "outputs": [],
   "source": [
    "#Delete last runs directory\n",
    "try:\n",
    "    shutil.rmtree('./mlruns')\n",
    "except FileNotFoundError:\n",
    "    print(\"WARNING: Can't find folder mlruns\")"
   ]
  },
  {
   "cell_type": "code",
   "execution_count": 3,
   "metadata": {},
   "outputs": [],
   "source": [
    "data, target = load_boston(return_X_y=True)\n",
    "\n",
    "df = pd.DataFrame(data)\n",
    "\n",
    "X_train, X_test, y_train, y_test = train_test_split(df,target,random_state=0)"
   ]
  },
  {
   "cell_type": "code",
   "execution_count": 4,
   "metadata": {},
   "outputs": [],
   "source": [
    "def calculate_errors(y,ypred):\n",
    "    mae = mean_absolute_error(y,ypred)\n",
    "    mse = mean_squared_error(y, ypred)\n",
    "    R2 = r2_score(y,ypred)\n",
    "    y,ypred = np.array(y), np.array(ypred)\n",
    "    mape = np.mean(np.abs((y - ypred) / y)) * 100\n",
    "#     print(\"MAE:{0:.3f}, MSE:{1:.2f}, R2:{2:.2f}\".format(mae, mse, R2))\n",
    "    return mae,mse,R2,mape"
   ]
  },
  {
   "cell_type": "code",
   "execution_count": null,
   "metadata": {},
   "outputs": [],
   "source": []
  },
  {
   "cell_type": "markdown",
   "metadata": {},
   "source": [
    "## Train model"
   ]
  },
  {
   "cell_type": "code",
   "execution_count": 5,
   "metadata": {},
   "outputs": [],
   "source": [
    "def train_elastic_net(a,l,exp = None):\n",
    "    with mlflow.start_run(experiment_id=exp): #start mlflow run\n",
    "        en = ElasticNet(alpha=a,l1_ratio=l)\n",
    "        en.fit(X_train,y_train)\n",
    "        y_pred = en.predict(X_test)\n",
    "        \n",
    "        #calculate errors\n",
    "        mae,mse,R2,mape = calculate_errors(y_test,y_pred)\n",
    "        errors = mae,mse,R2,mape\n",
    "        print(\"MAE:{0:.3f}, MSE:{1:.2f}, R2:{2:.2f}\".format(mae, mse, R2))\n",
    "        \n",
    "        #log metris and parmeters\n",
    "        mlflow.log_metrics({\"MAE\":mae,\"MSE\":mse, \"R2\":R2, \"MAPE\":mape})\n",
    "        mlflow.log_params({\"alpha\":a,\"l1_ratio\":l})\n",
    "        \n",
    "        #register model\n",
    "        mlflow.sklearn.log_model(en, \"model\")\n",
    "        \n",
    "        #save error plot\n",
    "        plt.figure()\n",
    "        plt.bar(['mae','mse','R2','mape'],errors,color=['blue','red','green','orange']);\n",
    "        plt.title(\"Errors\")\n",
    "        plt.savefig(\"errors.png\")\n",
    "        plt.close()\n",
    "        mlflow.log_artifact(\"errors.png\")"
   ]
  },
  {
   "cell_type": "markdown",
   "metadata": {},
   "source": [
    "## Predict with different alpha and l1 ratio values"
   ]
  },
  {
   "cell_type": "code",
   "execution_count": 6,
   "metadata": {},
   "outputs": [
    {
     "name": "stdout",
     "output_type": "stream",
     "text": [
      "MAE:3.787, MSE:32.25, R2:0.61\n",
      "MAE:3.776, MSE:32.21, R2:0.61\n",
      "MAE:3.764, MSE:32.16, R2:0.61\n",
      "MAE:3.749, MSE:32.11, R2:0.61\n",
      "MAE:3.882, MSE:33.66, R2:0.59\n",
      "MAE:3.866, MSE:33.58, R2:0.59\n",
      "MAE:3.845, MSE:33.41, R2:0.59\n",
      "MAE:3.810, MSE:33.10, R2:0.59\n",
      "MAE:3.936, MSE:34.57, R2:0.58\n",
      "MAE:3.929, MSE:34.60, R2:0.58\n",
      "MAE:3.914, MSE:34.49, R2:0.58\n",
      "MAE:3.887, MSE:34.24, R2:0.58\n",
      "MAE:3.966, MSE:35.23, R2:0.57\n",
      "MAE:3.968, MSE:35.38, R2:0.57\n",
      "MAE:3.970, MSE:35.47, R2:0.57\n",
      "MAE:3.968, MSE:35.53, R2:0.57\n"
     ]
    }
   ],
   "source": [
    " for a in np.arange(0.1, 1, 0.25):\n",
    "        for l in np.arange(0.1, 1, 0.25):\n",
    "            train_elastic_net(a,l)"
   ]
  },
  {
   "cell_type": "code",
   "execution_count": 7,
   "metadata": {},
   "outputs": [
    {
     "name": "stdout",
     "output_type": "stream",
     "text": [
      "target mean:22.532806324110677\n",
      "target std:9.188011545278203\n"
     ]
    }
   ],
   "source": [
    "print(\"target mean:{}\".format(target.mean()))\n",
    "print(\"target std:{}\".format(target.std()))"
   ]
  },
  {
   "cell_type": "markdown",
   "metadata": {},
   "source": [
    "## new experiment"
   ]
  },
  {
   "cell_type": "code",
   "execution_count": 8,
   "metadata": {},
   "outputs": [],
   "source": [
    "exp = mlflow.create_experiment(name=\"normalized data\")"
   ]
  },
  {
   "cell_type": "code",
   "execution_count": 9,
   "metadata": {},
   "outputs": [],
   "source": [
    "from sklearn import preprocessing"
   ]
  },
  {
   "cell_type": "code",
   "execution_count": 10,
   "metadata": {},
   "outputs": [],
   "source": [
    "data = preprocessing.normalize(data)\n",
    "df = pd.DataFrame(data)\n",
    "\n",
    "X_train, X_test, y_train, y_test = train_test_split(df,target,random_state=0)"
   ]
  },
  {
   "cell_type": "code",
   "execution_count": 11,
   "metadata": {},
   "outputs": [
    {
     "data": {
      "text/plain": [
       "(506, 13)"
      ]
     },
     "execution_count": 11,
     "metadata": {},
     "output_type": "execute_result"
    }
   ],
   "source": [
    "data.shape"
   ]
  },
  {
   "cell_type": "code",
   "execution_count": 12,
   "metadata": {},
   "outputs": [
    {
     "name": "stdout",
     "output_type": "stream",
     "text": [
      "MAE:5.762, MSE:72.00, R2:0.12\n",
      "MAE:5.731, MSE:71.32, R2:0.13\n",
      "MAE:5.698, MSE:70.70, R2:0.13\n",
      "MAE:5.723, MSE:70.57, R2:0.14\n",
      "MAE:6.041, MSE:76.93, R2:0.06\n",
      "MAE:6.015, MSE:76.32, R2:0.07\n",
      "MAE:5.959, MSE:75.21, R2:0.08\n",
      "MAE:5.821, MSE:72.91, R2:0.11\n",
      "MAE:6.121, MSE:78.68, R2:0.04\n",
      "MAE:6.111, MSE:78.46, R2:0.04\n",
      "MAE:6.089, MSE:77.95, R2:0.05\n",
      "MAE:6.026, MSE:76.54, R2:0.06\n",
      "MAE:6.163, MSE:79.55, R2:0.03\n",
      "MAE:6.165, MSE:79.58, R2:0.03\n",
      "MAE:6.166, MSE:79.59, R2:0.03\n",
      "MAE:6.166, MSE:79.59, R2:0.03\n"
     ]
    }
   ],
   "source": [
    " for a in np.arange(0.1, 1, 0.25):\n",
    "        for l in np.arange(0.1, 1, 0.25):\n",
    "            train_elastic_net(a,l,exp)"
   ]
  },
  {
   "cell_type": "markdown",
   "metadata": {},
   "source": [
    "# Find best model"
   ]
  },
  {
   "cell_type": "code",
   "execution_count": 13,
   "metadata": {
    "scrolled": true
   },
   "outputs": [
    {
     "name": "stdout",
     "output_type": "stream",
     "text": [
      "Minimum error run_id:  7d19abac51d44de984b4c1acdd44c4bc\n"
     ]
    }
   ],
   "source": [
    "df = mlflow.search_runs()\n",
    "run_id = df.loc[df['metrics.MAE'].idxmin()]['run_id']\n",
    "print(\"Minimum error run_id: \",run_id)"
   ]
  },
  {
   "cell_type": "code",
   "execution_count": 14,
   "metadata": {},
   "outputs": [
    {
     "data": {
      "text/html": [
       "<div>\n",
       "<style scoped>\n",
       "    .dataframe tbody tr th:only-of-type {\n",
       "        vertical-align: middle;\n",
       "    }\n",
       "\n",
       "    .dataframe tbody tr th {\n",
       "        vertical-align: top;\n",
       "    }\n",
       "\n",
       "    .dataframe thead th {\n",
       "        text-align: right;\n",
       "    }\n",
       "</style>\n",
       "<table border=\"1\" class=\"dataframe\">\n",
       "  <thead>\n",
       "    <tr style=\"text-align: right;\">\n",
       "      <th></th>\n",
       "      <th>run_id</th>\n",
       "      <th>experiment_id</th>\n",
       "      <th>status</th>\n",
       "      <th>artifact_uri</th>\n",
       "      <th>start_time</th>\n",
       "      <th>end_time</th>\n",
       "      <th>metrics.R2</th>\n",
       "      <th>metrics.MAPE</th>\n",
       "      <th>metrics.MSE</th>\n",
       "      <th>metrics.MAE</th>\n",
       "      <th>params.l1_ratio</th>\n",
       "      <th>params.alpha</th>\n",
       "      <th>tags.mlflow.source.type</th>\n",
       "      <th>tags.mlflow.user</th>\n",
       "      <th>tags.mlflow.log-model.history</th>\n",
       "      <th>tags.mlflow.source.name</th>\n",
       "    </tr>\n",
       "  </thead>\n",
       "  <tbody>\n",
       "    <tr>\n",
       "      <th>0</th>\n",
       "      <td>51935af4cbc84393ae8c91fb1c0d17c0</td>\n",
       "      <td>0</td>\n",
       "      <td>FINISHED</td>\n",
       "      <td>file:///C:/ie/session2/mlruns/0/51935af4cbc843...</td>\n",
       "      <td>2021-05-30 18:57:27.606000+00:00</td>\n",
       "      <td>2021-05-30 18:57:28.048000+00:00</td>\n",
       "      <td>0.565145</td>\n",
       "      <td>18.322409</td>\n",
       "      <td>35.527237</td>\n",
       "      <td>3.968131</td>\n",
       "      <td>0.8499999999999999</td>\n",
       "      <td>0.8499999999999999</td>\n",
       "      <td>LOCAL</td>\n",
       "      <td>jicav</td>\n",
       "      <td>[{\"run_id\": \"51935af4cbc84393ae8c91fb1c0d17c0\"...</td>\n",
       "      <td>C:\\Users\\jicav\\anaconda3\\lib\\site-packages\\ipy...</td>\n",
       "    </tr>\n",
       "    <tr>\n",
       "      <th>1</th>\n",
       "      <td>4ed97f63f3784562b4e02c4757b2b1f1</td>\n",
       "      <td>0</td>\n",
       "      <td>FINISHED</td>\n",
       "      <td>file:///C:/ie/session2/mlruns/0/4ed97f63f37845...</td>\n",
       "      <td>2021-05-30 18:57:26.914000+00:00</td>\n",
       "      <td>2021-05-30 18:57:27.597000+00:00</td>\n",
       "      <td>0.565791</td>\n",
       "      <td>18.344260</td>\n",
       "      <td>35.474462</td>\n",
       "      <td>3.969933</td>\n",
       "      <td>0.6</td>\n",
       "      <td>0.8499999999999999</td>\n",
       "      <td>LOCAL</td>\n",
       "      <td>jicav</td>\n",
       "      <td>[{\"run_id\": \"4ed97f63f3784562b4e02c4757b2b1f1\"...</td>\n",
       "      <td>C:\\Users\\jicav\\anaconda3\\lib\\site-packages\\ipy...</td>\n",
       "    </tr>\n",
       "    <tr>\n",
       "      <th>2</th>\n",
       "      <td>41dcc790417340c4a3f84d2588d04abe</td>\n",
       "      <td>0</td>\n",
       "      <td>FINISHED</td>\n",
       "      <td>file:///C:/ie/session2/mlruns/0/41dcc790417340...</td>\n",
       "      <td>2021-05-30 18:57:26.426000+00:00</td>\n",
       "      <td>2021-05-30 18:57:26.908000+00:00</td>\n",
       "      <td>0.566991</td>\n",
       "      <td>18.353080</td>\n",
       "      <td>35.376397</td>\n",
       "      <td>3.968318</td>\n",
       "      <td>0.35</td>\n",
       "      <td>0.8499999999999999</td>\n",
       "      <td>LOCAL</td>\n",
       "      <td>jicav</td>\n",
       "      <td>[{\"run_id\": \"41dcc790417340c4a3f84d2588d04abe\"...</td>\n",
       "      <td>C:\\Users\\jicav\\anaconda3\\lib\\site-packages\\ipy...</td>\n",
       "    </tr>\n",
       "    <tr>\n",
       "      <th>3</th>\n",
       "      <td>e8d87e97f1084b75a181934271093872</td>\n",
       "      <td>0</td>\n",
       "      <td>FINISHED</td>\n",
       "      <td>file:///C:/ie/session2/mlruns/0/e8d87e97f1084b...</td>\n",
       "      <td>2021-05-30 18:57:25.869000+00:00</td>\n",
       "      <td>2021-05-30 18:57:26.415000+00:00</td>\n",
       "      <td>0.568795</td>\n",
       "      <td>18.365372</td>\n",
       "      <td>35.229018</td>\n",
       "      <td>3.966483</td>\n",
       "      <td>0.1</td>\n",
       "      <td>0.8499999999999999</td>\n",
       "      <td>LOCAL</td>\n",
       "      <td>jicav</td>\n",
       "      <td>[{\"run_id\": \"e8d87e97f1084b75a181934271093872\"...</td>\n",
       "      <td>C:\\Users\\jicav\\anaconda3\\lib\\site-packages\\ipy...</td>\n",
       "    </tr>\n",
       "    <tr>\n",
       "      <th>4</th>\n",
       "      <td>8a60d47c05244287beb67a0c984b7c87</td>\n",
       "      <td>0</td>\n",
       "      <td>FINISHED</td>\n",
       "      <td>file:///C:/ie/session2/mlruns/0/8a60d47c052442...</td>\n",
       "      <td>2021-05-30 18:57:25.321000+00:00</td>\n",
       "      <td>2021-05-30 18:57:25.861000+00:00</td>\n",
       "      <td>0.580933</td>\n",
       "      <td>18.029630</td>\n",
       "      <td>34.237367</td>\n",
       "      <td>3.886942</td>\n",
       "      <td>0.8499999999999999</td>\n",
       "      <td>0.6</td>\n",
       "      <td>LOCAL</td>\n",
       "      <td>jicav</td>\n",
       "      <td>[{\"run_id\": \"8a60d47c05244287beb67a0c984b7c87\"...</td>\n",
       "      <td>C:\\Users\\jicav\\anaconda3\\lib\\site-packages\\ipy...</td>\n",
       "    </tr>\n",
       "    <tr>\n",
       "      <th>5</th>\n",
       "      <td>7477c21f92674890b348b78222b662c5</td>\n",
       "      <td>0</td>\n",
       "      <td>FINISHED</td>\n",
       "      <td>file:///C:/ie/session2/mlruns/0/7477c21f926748...</td>\n",
       "      <td>2021-05-30 18:57:24.806000+00:00</td>\n",
       "      <td>2021-05-30 18:57:25.307000+00:00</td>\n",
       "      <td>0.577847</td>\n",
       "      <td>18.155179</td>\n",
       "      <td>34.489518</td>\n",
       "      <td>3.914044</td>\n",
       "      <td>0.6</td>\n",
       "      <td>0.6</td>\n",
       "      <td>LOCAL</td>\n",
       "      <td>jicav</td>\n",
       "      <td>[{\"run_id\": \"7477c21f92674890b348b78222b662c5\"...</td>\n",
       "      <td>C:\\Users\\jicav\\anaconda3\\lib\\site-packages\\ipy...</td>\n",
       "    </tr>\n",
       "    <tr>\n",
       "      <th>6</th>\n",
       "      <td>81165c7a64874041a232d026e42429da</td>\n",
       "      <td>0</td>\n",
       "      <td>FINISHED</td>\n",
       "      <td>file:///C:/ie/session2/mlruns/0/81165c7a648740...</td>\n",
       "      <td>2021-05-30 18:57:24.211000+00:00</td>\n",
       "      <td>2021-05-30 18:57:24.797000+00:00</td>\n",
       "      <td>0.576530</td>\n",
       "      <td>18.228895</td>\n",
       "      <td>34.597062</td>\n",
       "      <td>3.928626</td>\n",
       "      <td>0.35</td>\n",
       "      <td>0.6</td>\n",
       "      <td>LOCAL</td>\n",
       "      <td>jicav</td>\n",
       "      <td>[{\"run_id\": \"81165c7a64874041a232d026e42429da\"...</td>\n",
       "      <td>C:\\Users\\jicav\\anaconda3\\lib\\site-packages\\ipy...</td>\n",
       "    </tr>\n",
       "    <tr>\n",
       "      <th>7</th>\n",
       "      <td>062400f7da4c44d2941ca14471a5ddba</td>\n",
       "      <td>0</td>\n",
       "      <td>FINISHED</td>\n",
       "      <td>file:///C:/ie/session2/mlruns/0/062400f7da4c44...</td>\n",
       "      <td>2021-05-30 18:57:23.717000+00:00</td>\n",
       "      <td>2021-05-30 18:57:24.203000+00:00</td>\n",
       "      <td>0.576849</td>\n",
       "      <td>18.274140</td>\n",
       "      <td>34.571040</td>\n",
       "      <td>3.935648</td>\n",
       "      <td>0.1</td>\n",
       "      <td>0.6</td>\n",
       "      <td>LOCAL</td>\n",
       "      <td>jicav</td>\n",
       "      <td>[{\"run_id\": \"062400f7da4c44d2941ca14471a5ddba\"...</td>\n",
       "      <td>C:\\Users\\jicav\\anaconda3\\lib\\site-packages\\ipy...</td>\n",
       "    </tr>\n",
       "    <tr>\n",
       "      <th>8</th>\n",
       "      <td>cc6e139bb15b427b82ef5dce2494d3ab</td>\n",
       "      <td>0</td>\n",
       "      <td>FINISHED</td>\n",
       "      <td>file:///C:/ie/session2/mlruns/0/cc6e139bb15b42...</td>\n",
       "      <td>2021-05-30 18:57:23.191000+00:00</td>\n",
       "      <td>2021-05-30 18:57:23.707000+00:00</td>\n",
       "      <td>0.594847</td>\n",
       "      <td>17.773695</td>\n",
       "      <td>33.100608</td>\n",
       "      <td>3.809643</td>\n",
       "      <td>0.8499999999999999</td>\n",
       "      <td>0.35</td>\n",
       "      <td>LOCAL</td>\n",
       "      <td>jicav</td>\n",
       "      <td>[{\"run_id\": \"cc6e139bb15b427b82ef5dce2494d3ab\"...</td>\n",
       "      <td>C:\\Users\\jicav\\anaconda3\\lib\\site-packages\\ipy...</td>\n",
       "    </tr>\n",
       "    <tr>\n",
       "      <th>9</th>\n",
       "      <td>29626f43bf9d437091b8de365b965c27</td>\n",
       "      <td>0</td>\n",
       "      <td>FINISHED</td>\n",
       "      <td>file:///C:/ie/session2/mlruns/0/29626f43bf9d43...</td>\n",
       "      <td>2021-05-30 18:57:22.709000+00:00</td>\n",
       "      <td>2021-05-30 18:57:23.182000+00:00</td>\n",
       "      <td>0.591077</td>\n",
       "      <td>17.913881</td>\n",
       "      <td>33.408624</td>\n",
       "      <td>3.844676</td>\n",
       "      <td>0.6</td>\n",
       "      <td>0.35</td>\n",
       "      <td>LOCAL</td>\n",
       "      <td>jicav</td>\n",
       "      <td>[{\"run_id\": \"29626f43bf9d437091b8de365b965c27\"...</td>\n",
       "      <td>C:\\Users\\jicav\\anaconda3\\lib\\site-packages\\ipy...</td>\n",
       "    </tr>\n",
       "    <tr>\n",
       "      <th>10</th>\n",
       "      <td>53cde2370b424c5a957709e53e95ec14</td>\n",
       "      <td>0</td>\n",
       "      <td>FINISHED</td>\n",
       "      <td>file:///C:/ie/session2/mlruns/0/53cde2370b424c...</td>\n",
       "      <td>2021-05-30 18:57:22.187000+00:00</td>\n",
       "      <td>2021-05-30 18:57:22.700000+00:00</td>\n",
       "      <td>0.588962</td>\n",
       "      <td>18.007779</td>\n",
       "      <td>33.581436</td>\n",
       "      <td>3.866440</td>\n",
       "      <td>0.35</td>\n",
       "      <td>0.35</td>\n",
       "      <td>LOCAL</td>\n",
       "      <td>jicav</td>\n",
       "      <td>[{\"run_id\": \"53cde2370b424c5a957709e53e95ec14\"...</td>\n",
       "      <td>C:\\Users\\jicav\\anaconda3\\lib\\site-packages\\ipy...</td>\n",
       "    </tr>\n",
       "    <tr>\n",
       "      <th>11</th>\n",
       "      <td>17e1668b821b41589b480bb1e1b38364</td>\n",
       "      <td>0</td>\n",
       "      <td>FINISHED</td>\n",
       "      <td>file:///C:/ie/session2/mlruns/0/17e1668b821b41...</td>\n",
       "      <td>2021-05-30 18:57:21.660000+00:00</td>\n",
       "      <td>2021-05-30 18:57:22.179000+00:00</td>\n",
       "      <td>0.587983</td>\n",
       "      <td>18.081893</td>\n",
       "      <td>33.661378</td>\n",
       "      <td>3.881773</td>\n",
       "      <td>0.1</td>\n",
       "      <td>0.35</td>\n",
       "      <td>LOCAL</td>\n",
       "      <td>jicav</td>\n",
       "      <td>[{\"run_id\": \"17e1668b821b41589b480bb1e1b38364\"...</td>\n",
       "      <td>C:\\Users\\jicav\\anaconda3\\lib\\site-packages\\ipy...</td>\n",
       "    </tr>\n",
       "    <tr>\n",
       "      <th>12</th>\n",
       "      <td>7d19abac51d44de984b4c1acdd44c4bc</td>\n",
       "      <td>0</td>\n",
       "      <td>FINISHED</td>\n",
       "      <td>file:///C:/ie/session2/mlruns/0/7d19abac51d44d...</td>\n",
       "      <td>2021-05-30 18:57:21.179000+00:00</td>\n",
       "      <td>2021-05-30 18:57:21.650000+00:00</td>\n",
       "      <td>0.606987</td>\n",
       "      <td>17.686174</td>\n",
       "      <td>32.108779</td>\n",
       "      <td>3.749384</td>\n",
       "      <td>0.8499999999999999</td>\n",
       "      <td>0.1</td>\n",
       "      <td>LOCAL</td>\n",
       "      <td>jicav</td>\n",
       "      <td>[{\"run_id\": \"7d19abac51d44de984b4c1acdd44c4bc\"...</td>\n",
       "      <td>C:\\Users\\jicav\\anaconda3\\lib\\site-packages\\ipy...</td>\n",
       "    </tr>\n",
       "    <tr>\n",
       "      <th>13</th>\n",
       "      <td>0715f6e6d10a4616badab7cc883c4629</td>\n",
       "      <td>0</td>\n",
       "      <td>FINISHED</td>\n",
       "      <td>file:///C:/ie/session2/mlruns/0/0715f6e6d10a46...</td>\n",
       "      <td>2021-05-30 18:57:20.613000+00:00</td>\n",
       "      <td>2021-05-30 18:57:21.176000+00:00</td>\n",
       "      <td>0.606316</td>\n",
       "      <td>17.722160</td>\n",
       "      <td>32.163595</td>\n",
       "      <td>3.764061</td>\n",
       "      <td>0.6</td>\n",
       "      <td>0.1</td>\n",
       "      <td>LOCAL</td>\n",
       "      <td>jicav</td>\n",
       "      <td>[{\"run_id\": \"0715f6e6d10a4616badab7cc883c4629\"...</td>\n",
       "      <td>C:\\Users\\jicav\\anaconda3\\lib\\site-packages\\ipy...</td>\n",
       "    </tr>\n",
       "    <tr>\n",
       "      <th>14</th>\n",
       "      <td>5abc298bd778405cbaa3ec664d37f002</td>\n",
       "      <td>0</td>\n",
       "      <td>FINISHED</td>\n",
       "      <td>file:///C:/ie/session2/mlruns/0/5abc298bd77840...</td>\n",
       "      <td>2021-05-30 18:57:19.977000+00:00</td>\n",
       "      <td>2021-05-30 18:57:20.605000+00:00</td>\n",
       "      <td>0.605750</td>\n",
       "      <td>17.751234</td>\n",
       "      <td>32.209867</td>\n",
       "      <td>3.775775</td>\n",
       "      <td>0.35</td>\n",
       "      <td>0.1</td>\n",
       "      <td>LOCAL</td>\n",
       "      <td>jicav</td>\n",
       "      <td>[{\"run_id\": \"5abc298bd778405cbaa3ec664d37f002\"...</td>\n",
       "      <td>C:\\Users\\jicav\\anaconda3\\lib\\site-packages\\ipy...</td>\n",
       "    </tr>\n",
       "    <tr>\n",
       "      <th>15</th>\n",
       "      <td>d50347aab89e4a3082e758db6ffdeff3</td>\n",
       "      <td>0</td>\n",
       "      <td>FINISHED</td>\n",
       "      <td>file:///C:/ie/session2/mlruns/0/d50347aab89e4a...</td>\n",
       "      <td>2021-05-30 18:57:19.065000+00:00</td>\n",
       "      <td>2021-05-30 18:57:19.947000+00:00</td>\n",
       "      <td>0.605300</td>\n",
       "      <td>17.790377</td>\n",
       "      <td>32.246619</td>\n",
       "      <td>3.787295</td>\n",
       "      <td>0.1</td>\n",
       "      <td>0.1</td>\n",
       "      <td>LOCAL</td>\n",
       "      <td>jicav</td>\n",
       "      <td>[{\"run_id\": \"d50347aab89e4a3082e758db6ffdeff3\"...</td>\n",
       "      <td>C:\\Users\\jicav\\anaconda3\\lib\\site-packages\\ipy...</td>\n",
       "    </tr>\n",
       "  </tbody>\n",
       "</table>\n",
       "</div>"
      ],
      "text/plain": [
       "                              run_id experiment_id    status  \\\n",
       "0   51935af4cbc84393ae8c91fb1c0d17c0             0  FINISHED   \n",
       "1   4ed97f63f3784562b4e02c4757b2b1f1             0  FINISHED   \n",
       "2   41dcc790417340c4a3f84d2588d04abe             0  FINISHED   \n",
       "3   e8d87e97f1084b75a181934271093872             0  FINISHED   \n",
       "4   8a60d47c05244287beb67a0c984b7c87             0  FINISHED   \n",
       "5   7477c21f92674890b348b78222b662c5             0  FINISHED   \n",
       "6   81165c7a64874041a232d026e42429da             0  FINISHED   \n",
       "7   062400f7da4c44d2941ca14471a5ddba             0  FINISHED   \n",
       "8   cc6e139bb15b427b82ef5dce2494d3ab             0  FINISHED   \n",
       "9   29626f43bf9d437091b8de365b965c27             0  FINISHED   \n",
       "10  53cde2370b424c5a957709e53e95ec14             0  FINISHED   \n",
       "11  17e1668b821b41589b480bb1e1b38364             0  FINISHED   \n",
       "12  7d19abac51d44de984b4c1acdd44c4bc             0  FINISHED   \n",
       "13  0715f6e6d10a4616badab7cc883c4629             0  FINISHED   \n",
       "14  5abc298bd778405cbaa3ec664d37f002             0  FINISHED   \n",
       "15  d50347aab89e4a3082e758db6ffdeff3             0  FINISHED   \n",
       "\n",
       "                                         artifact_uri  \\\n",
       "0   file:///C:/ie/session2/mlruns/0/51935af4cbc843...   \n",
       "1   file:///C:/ie/session2/mlruns/0/4ed97f63f37845...   \n",
       "2   file:///C:/ie/session2/mlruns/0/41dcc790417340...   \n",
       "3   file:///C:/ie/session2/mlruns/0/e8d87e97f1084b...   \n",
       "4   file:///C:/ie/session2/mlruns/0/8a60d47c052442...   \n",
       "5   file:///C:/ie/session2/mlruns/0/7477c21f926748...   \n",
       "6   file:///C:/ie/session2/mlruns/0/81165c7a648740...   \n",
       "7   file:///C:/ie/session2/mlruns/0/062400f7da4c44...   \n",
       "8   file:///C:/ie/session2/mlruns/0/cc6e139bb15b42...   \n",
       "9   file:///C:/ie/session2/mlruns/0/29626f43bf9d43...   \n",
       "10  file:///C:/ie/session2/mlruns/0/53cde2370b424c...   \n",
       "11  file:///C:/ie/session2/mlruns/0/17e1668b821b41...   \n",
       "12  file:///C:/ie/session2/mlruns/0/7d19abac51d44d...   \n",
       "13  file:///C:/ie/session2/mlruns/0/0715f6e6d10a46...   \n",
       "14  file:///C:/ie/session2/mlruns/0/5abc298bd77840...   \n",
       "15  file:///C:/ie/session2/mlruns/0/d50347aab89e4a...   \n",
       "\n",
       "                         start_time                         end_time  \\\n",
       "0  2021-05-30 18:57:27.606000+00:00 2021-05-30 18:57:28.048000+00:00   \n",
       "1  2021-05-30 18:57:26.914000+00:00 2021-05-30 18:57:27.597000+00:00   \n",
       "2  2021-05-30 18:57:26.426000+00:00 2021-05-30 18:57:26.908000+00:00   \n",
       "3  2021-05-30 18:57:25.869000+00:00 2021-05-30 18:57:26.415000+00:00   \n",
       "4  2021-05-30 18:57:25.321000+00:00 2021-05-30 18:57:25.861000+00:00   \n",
       "5  2021-05-30 18:57:24.806000+00:00 2021-05-30 18:57:25.307000+00:00   \n",
       "6  2021-05-30 18:57:24.211000+00:00 2021-05-30 18:57:24.797000+00:00   \n",
       "7  2021-05-30 18:57:23.717000+00:00 2021-05-30 18:57:24.203000+00:00   \n",
       "8  2021-05-30 18:57:23.191000+00:00 2021-05-30 18:57:23.707000+00:00   \n",
       "9  2021-05-30 18:57:22.709000+00:00 2021-05-30 18:57:23.182000+00:00   \n",
       "10 2021-05-30 18:57:22.187000+00:00 2021-05-30 18:57:22.700000+00:00   \n",
       "11 2021-05-30 18:57:21.660000+00:00 2021-05-30 18:57:22.179000+00:00   \n",
       "12 2021-05-30 18:57:21.179000+00:00 2021-05-30 18:57:21.650000+00:00   \n",
       "13 2021-05-30 18:57:20.613000+00:00 2021-05-30 18:57:21.176000+00:00   \n",
       "14 2021-05-30 18:57:19.977000+00:00 2021-05-30 18:57:20.605000+00:00   \n",
       "15 2021-05-30 18:57:19.065000+00:00 2021-05-30 18:57:19.947000+00:00   \n",
       "\n",
       "    metrics.R2  metrics.MAPE  metrics.MSE  metrics.MAE     params.l1_ratio  \\\n",
       "0     0.565145     18.322409    35.527237     3.968131  0.8499999999999999   \n",
       "1     0.565791     18.344260    35.474462     3.969933                 0.6   \n",
       "2     0.566991     18.353080    35.376397     3.968318                0.35   \n",
       "3     0.568795     18.365372    35.229018     3.966483                 0.1   \n",
       "4     0.580933     18.029630    34.237367     3.886942  0.8499999999999999   \n",
       "5     0.577847     18.155179    34.489518     3.914044                 0.6   \n",
       "6     0.576530     18.228895    34.597062     3.928626                0.35   \n",
       "7     0.576849     18.274140    34.571040     3.935648                 0.1   \n",
       "8     0.594847     17.773695    33.100608     3.809643  0.8499999999999999   \n",
       "9     0.591077     17.913881    33.408624     3.844676                 0.6   \n",
       "10    0.588962     18.007779    33.581436     3.866440                0.35   \n",
       "11    0.587983     18.081893    33.661378     3.881773                 0.1   \n",
       "12    0.606987     17.686174    32.108779     3.749384  0.8499999999999999   \n",
       "13    0.606316     17.722160    32.163595     3.764061                 0.6   \n",
       "14    0.605750     17.751234    32.209867     3.775775                0.35   \n",
       "15    0.605300     17.790377    32.246619     3.787295                 0.1   \n",
       "\n",
       "          params.alpha tags.mlflow.source.type tags.mlflow.user  \\\n",
       "0   0.8499999999999999                   LOCAL            jicav   \n",
       "1   0.8499999999999999                   LOCAL            jicav   \n",
       "2   0.8499999999999999                   LOCAL            jicav   \n",
       "3   0.8499999999999999                   LOCAL            jicav   \n",
       "4                  0.6                   LOCAL            jicav   \n",
       "5                  0.6                   LOCAL            jicav   \n",
       "6                  0.6                   LOCAL            jicav   \n",
       "7                  0.6                   LOCAL            jicav   \n",
       "8                 0.35                   LOCAL            jicav   \n",
       "9                 0.35                   LOCAL            jicav   \n",
       "10                0.35                   LOCAL            jicav   \n",
       "11                0.35                   LOCAL            jicav   \n",
       "12                 0.1                   LOCAL            jicav   \n",
       "13                 0.1                   LOCAL            jicav   \n",
       "14                 0.1                   LOCAL            jicav   \n",
       "15                 0.1                   LOCAL            jicav   \n",
       "\n",
       "                        tags.mlflow.log-model.history  \\\n",
       "0   [{\"run_id\": \"51935af4cbc84393ae8c91fb1c0d17c0\"...   \n",
       "1   [{\"run_id\": \"4ed97f63f3784562b4e02c4757b2b1f1\"...   \n",
       "2   [{\"run_id\": \"41dcc790417340c4a3f84d2588d04abe\"...   \n",
       "3   [{\"run_id\": \"e8d87e97f1084b75a181934271093872\"...   \n",
       "4   [{\"run_id\": \"8a60d47c05244287beb67a0c984b7c87\"...   \n",
       "5   [{\"run_id\": \"7477c21f92674890b348b78222b662c5\"...   \n",
       "6   [{\"run_id\": \"81165c7a64874041a232d026e42429da\"...   \n",
       "7   [{\"run_id\": \"062400f7da4c44d2941ca14471a5ddba\"...   \n",
       "8   [{\"run_id\": \"cc6e139bb15b427b82ef5dce2494d3ab\"...   \n",
       "9   [{\"run_id\": \"29626f43bf9d437091b8de365b965c27\"...   \n",
       "10  [{\"run_id\": \"53cde2370b424c5a957709e53e95ec14\"...   \n",
       "11  [{\"run_id\": \"17e1668b821b41589b480bb1e1b38364\"...   \n",
       "12  [{\"run_id\": \"7d19abac51d44de984b4c1acdd44c4bc\"...   \n",
       "13  [{\"run_id\": \"0715f6e6d10a4616badab7cc883c4629\"...   \n",
       "14  [{\"run_id\": \"5abc298bd778405cbaa3ec664d37f002\"...   \n",
       "15  [{\"run_id\": \"d50347aab89e4a3082e758db6ffdeff3\"...   \n",
       "\n",
       "                              tags.mlflow.source.name  \n",
       "0   C:\\Users\\jicav\\anaconda3\\lib\\site-packages\\ipy...  \n",
       "1   C:\\Users\\jicav\\anaconda3\\lib\\site-packages\\ipy...  \n",
       "2   C:\\Users\\jicav\\anaconda3\\lib\\site-packages\\ipy...  \n",
       "3   C:\\Users\\jicav\\anaconda3\\lib\\site-packages\\ipy...  \n",
       "4   C:\\Users\\jicav\\anaconda3\\lib\\site-packages\\ipy...  \n",
       "5   C:\\Users\\jicav\\anaconda3\\lib\\site-packages\\ipy...  \n",
       "6   C:\\Users\\jicav\\anaconda3\\lib\\site-packages\\ipy...  \n",
       "7   C:\\Users\\jicav\\anaconda3\\lib\\site-packages\\ipy...  \n",
       "8   C:\\Users\\jicav\\anaconda3\\lib\\site-packages\\ipy...  \n",
       "9   C:\\Users\\jicav\\anaconda3\\lib\\site-packages\\ipy...  \n",
       "10  C:\\Users\\jicav\\anaconda3\\lib\\site-packages\\ipy...  \n",
       "11  C:\\Users\\jicav\\anaconda3\\lib\\site-packages\\ipy...  \n",
       "12  C:\\Users\\jicav\\anaconda3\\lib\\site-packages\\ipy...  \n",
       "13  C:\\Users\\jicav\\anaconda3\\lib\\site-packages\\ipy...  \n",
       "14  C:\\Users\\jicav\\anaconda3\\lib\\site-packages\\ipy...  \n",
       "15  C:\\Users\\jicav\\anaconda3\\lib\\site-packages\\ipy...  "
      ]
     },
     "execution_count": 14,
     "metadata": {},
     "output_type": "execute_result"
    }
   ],
   "source": [
    "df"
   ]
  },
  {
   "cell_type": "markdown",
   "metadata": {},
   "source": [
    "## We can serve the model as a REST API \n",
    "`mlflow models serve -m [model_path] -p [port]`"
   ]
  },
  {
   "cell_type": "code",
   "execution_count": 15,
   "metadata": {},
   "outputs": [
    {
     "name": "stdout",
     "output_type": "stream",
     "text": [
      "mlflow models serve -m ./mlruns/0/7d19abac51d44de984b4c1acdd44c4bc/artifacts/model -p 5354\n"
     ]
    }
   ],
   "source": [
    "#mejor modelo\n",
    "print(\"mlflow models serve -m ./mlruns/0/{0}/artifacts/model -p 5354\".format(run_id))"
   ]
  },
  {
   "cell_type": "markdown",
   "metadata": {},
   "source": [
    "## And then call the API to make a prediction for us \n"
   ]
  },
  {
   "cell_type": "code",
   "execution_count": 18,
   "metadata": {},
   "outputs": [
    {
     "data": {
      "text/plain": [
       "'{\"columns\":[0,1,2,3,4,5,6,7,8,9,10,11,12],\"index\":[329],\"data\":[[0.0001176914,0.0,0.0056710311,0.0,0.0008051464,0.0110847655,0.0301054738,0.0091272095,0.007001273,0.7526368457,0.0295803784,0.656736909,0.0128473359]]}'"
      ]
     },
     "execution_count": 18,
     "metadata": {},
     "output_type": "execute_result"
    }
   ],
   "source": [
    "#first we need to turn one of the test rows into json format\n",
    "X_test.loc[[329]].to_json(orient='split')"
   ]
  },
  {
   "cell_type": "markdown",
   "metadata": {},
   "source": [
    "And then we are ready to call the API service and get a reply  \n",
    "`curl http://127.0.0.1:5354/invocations -H 'Content-Type: application/json' -d '{\"columns\":[0,1,2,3,4,5,6,7,8,9,10,11,12],\"index\":[329],\"data\":[[0.0001176914,0.0,0.0056710311,0.0,0.0008051464,0.0110847655,0.0301054738,0.0091272095,0.007001273,0.7526368457,0.0295803784,0.656736909,0.0128473359]]}'`"
   ]
  },
  {
   "cell_type": "code",
   "execution_count": 21,
   "metadata": {},
   "outputs": [
    {
     "name": "stdout",
     "output_type": "stream",
     "text": [
      "[24.896959855052206]\n"
     ]
    },
    {
     "name": "stderr",
     "output_type": "stream",
     "text": [
      "  % Total    % Received % Xferd  Average Speed   Time    Time     Time  Current\n",
      "                                 Dload  Upload   Total   Spent    Left  Speed\n",
      "\n",
      "  0     0    0     0    0     0      0      0 --:--:-- --:--:-- --:--:--     0\n",
      "100   182  100    20  100   162   3333  27000 --:--:-- --:--:-- --:--:-- 30333\n"
     ]
    }
   ],
   "source": [
    "!curl -X POST -H \"Content-Type:application/json; format=pandas-split\" --data \"{\\\"columns\\\":[\\\"0\\\", \\\"1\\\", \\\"2\\\", \\\"3\\\", \\\"4\\\", \\\"5\\\", \\\"6\\\", \\\"7\\\", \\\"8\\\", \\\"9\\\", \\\"10\\\", \\\"11\\\", \\\"12\\\"],\\\"data\\\":[[0.06724,0.0,3.24,0.0,0.46,6.333,17.2,5.2146,4.0,430.0,16.9,375.21,7.34]]}\" http://127.0.0.1:5354/invocations"
   ]
  },
  {
   "cell_type": "markdown",
   "metadata": {},
   "source": [
    "#### to run a MLFlow project directly from GitHub\n",
    "mlflow run git@github.com:mlflow/mlflow-example.git -P alpha=1"
   ]
  },
  {
   "cell_type": "code",
   "execution_count": null,
   "metadata": {},
   "outputs": [],
   "source": []
  }
 ],
 "metadata": {
  "kernelspec": {
   "display_name": "Python 3",
   "language": "python",
   "name": "python3"
  },
  "language_info": {
   "codemirror_mode": {
    "name": "ipython",
    "version": 3
   },
   "file_extension": ".py",
   "mimetype": "text/x-python",
   "name": "python",
   "nbconvert_exporter": "python",
   "pygments_lexer": "ipython3",
   "version": "3.8.5"
  }
 },
 "nbformat": 4,
 "nbformat_minor": 2
}
