{
 "cells": [
  {
   "cell_type": "code",
   "execution_count": 79,
   "metadata": {},
   "outputs": [],
   "source": [
    "import pandas as pd\n",
    "from sklearn.datasets import load_boston\n",
    "from sklearn.model_selection import train_test_split\n",
    "from sklearn.linear_model import ElasticNet\n",
    "from sklearn.metrics import mean_absolute_error\n",
    "from sklearn.metrics import mean_squared_error\n",
    "from sklearn.metrics import r2_score\n",
    "import numpy as np\n",
    "import matplotlib.pyplot as plt\n",
    "import mlflow"
   ]
  },
  {
   "cell_type": "code",
   "execution_count": 80,
   "metadata": {},
   "outputs": [],
   "source": [
    "data, target = load_boston(return_X_y=True)\n",
    "\n",
    "df = pd.DataFrame(data)\n",
    "\n",
    "X_train, X_test, y_train, y_test = train_test_split(df,target,random_state=0)"
   ]
  },
  {
   "cell_type": "code",
   "execution_count": 81,
   "metadata": {},
   "outputs": [],
   "source": [
    "def calculate_errors(y,ypred):\n",
    "    mae = mean_absolute_error(y,ypred)\n",
    "    mse = mean_squared_error(y, ypred)\n",
    "    R2 = r2_score(y,ypred)\n",
    "    y,ypred = np.array(y), np.array(ypred)\n",
    "    mape = np.mean(np.abs((y - ypred) / y)) * 100\n",
    "#     print(\"MAE:{0:.3f}, MSE:{1:.2f}, R2:{2:.2f}\".format(mae, mse, R2))\n",
    "    return mae,mse,R2,mape"
   ]
  },
  {
   "cell_type": "code",
   "execution_count": 82,
   "metadata": {},
   "outputs": [],
   "source": [
    "a = 0.1 \n",
    "l = 0.5\n",
    "\n",
    "en = ElasticNet(alpha=a,l1_ratio=l)\n",
    "en.fit(X_train,y_train)\n",
    "y_pred = en.predict(X_test)\n"
   ]
  },
  {
   "cell_type": "code",
   "execution_count": 83,
   "metadata": {},
   "outputs": [],
   "source": [
    "mae,mse,R2,mape = calculate_errors(y_test,y_pred)\n",
    "errors = mae,mse,R2,mape"
   ]
  },
  {
   "cell_type": "code",
   "execution_count": null,
   "metadata": {},
   "outputs": [],
   "source": []
  },
  {
   "cell_type": "code",
   "execution_count": 84,
   "metadata": {},
   "outputs": [
    {
     "data": {
      "text/plain": [
       "Text(0.5, 1.0, 'Errors')"
      ]
     },
     "execution_count": 84,
     "metadata": {},
     "output_type": "execute_result"
    },
    {
     "data": {
      "image/png": "[encoded data removed]",
      "text/plain": [
       "<Figure size 432x288 with 1 Axes>"
      ]
     },
     "metadata": {
      "needs_background": "light"
     },
     "output_type": "display_data"
    }
   ],
   "source": [
    "plt.figure()\n",
    "plt.bar(['mae','mse','R2','mape'],errors,color=['blue','red','green','orange'])\n",
    "plt.title(\"Errors\")"
   ]
  },
  {
   "cell_type": "code",
   "execution_count": 94,
   "metadata": {},
   "outputs": [],
   "source": [
    "def train_model(a,l):\n",
    "    with mlflow.start_run():\n",
    "        en = ElasticNet(alpha=a,l1_ratio=l)\n",
    "        en.fit(X_train,y_train)\n",
    "        y_pred = en.predict(X_test)\n",
    "        mae,mse,R2,mape = calculate_errors(y_test,y_pred)\n",
    "        print(\"MAE:{0:.3f}, MSE:{1:.2f}, R2:{2:.2f}\".format(mae, mse, R2))\n",
    "        mlflow.log_metrics({\"MAE\":mae,\"MSE\":mse, \"R2\":R2, \"MAPE\":mape})\n",
    "        mlflow.log_params({\"alpha\":a,\"l1_ratio\":l})"
   ]
  },
  {
   "cell_type": "code",
   "execution_count": 96,
   "metadata": {},
   "outputs": [
    {
     "name": "stdout",
     "output_type": "stream",
     "text": [
      "0.1 0.1\n",
      "MAE:3.787, MSE:32.25, R2:0.61\n",
      "0.1 0.30000000000000004\n",
      "MAE:3.778, MSE:32.21, R2:0.61\n",
      "0.1 0.5000000000000001\n",
      "MAE:3.769, MSE:32.19, R2:0.61\n",
      "0.1 0.7000000000000001\n",
      "MAE:3.758, MSE:32.14, R2:0.61\n",
      "0.1 0.9000000000000001\n",
      "MAE:3.746, MSE:32.10, R2:0.61\n",
      "0.30000000000000004 0.1\n",
      "MAE:3.869, MSE:33.43, R2:0.59\n",
      "0.30000000000000004 0.30000000000000004\n",
      "MAE:3.857, MSE:33.36, R2:0.59\n",
      "0.30000000000000004 0.5000000000000001\n",
      "MAE:3.843, MSE:33.28, R2:0.59\n",
      "0.30000000000000004 0.7000000000000001\n",
      "MAE:3.820, MSE:33.09, R2:0.59\n",
      "0.30000000000000004 0.9000000000000001\n",
      "MAE:3.788, MSE:32.85, R2:0.60\n",
      "0.5000000000000001 0.1\n",
      "MAE:3.919, MSE:34.25, R2:0.58\n",
      "0.5000000000000001 0.30000000000000004\n",
      "MAE:3.911, MSE:34.25, R2:0.58\n",
      "0.5000000000000001 0.5000000000000001\n",
      "MAE:3.898, MSE:34.15, R2:0.58\n",
      "0.5000000000000001 0.7000000000000001\n",
      "MAE:3.878, MSE:33.96, R2:0.58\n",
      "0.5000000000000001 0.9000000000000001\n",
      "MAE:3.844, MSE:33.65, R2:0.59\n",
      "0.7000000000000001 0.1\n",
      "MAE:3.950, MSE:34.86, R2:0.57\n",
      "0.7000000000000001 0.30000000000000004\n",
      "MAE:3.948, MSE:34.93, R2:0.57\n",
      "0.7000000000000001 0.5000000000000001\n",
      "MAE:3.942, MSE:34.92, R2:0.57\n",
      "0.7000000000000001 0.7000000000000001\n",
      "MAE:3.933, MSE:34.85, R2:0.57\n",
      "0.7000000000000001 0.9000000000000001\n",
      "MAE:3.914, MSE:34.68, R2:0.58\n",
      "0.9000000000000001 0.1\n",
      "MAE:3.971, MSE:35.34, R2:0.57\n",
      "0.9000000000000001 0.30000000000000004\n",
      "MAE:3.974, MSE:35.49, R2:0.57\n",
      "0.9000000000000001 0.5000000000000001\n",
      "MAE:3.978, MSE:35.60, R2:0.56\n",
      "0.9000000000000001 0.7000000000000001\n",
      "MAE:3.982, MSE:35.72, R2:0.56\n",
      "0.9000000000000001 0.9000000000000001\n",
      "MAE:3.984, MSE:35.82, R2:0.56\n"
     ]
    }
   ],
   "source": [
    " for a in np.arange(0.1, 1, 0.2):\n",
    "        for l in np.arange(0.1, 1, 0.2):\n",
    "            print(a,l)\n",
    "            train_model(a,l)"
   ]
  },
  {
   "cell_type": "code",
   "execution_count": 89,
   "metadata": {},
   "outputs": [
    {
     "name": "stdout",
     "output_type": "stream",
     "text": [
      "0.1\n",
      "0.2\n",
      "0.30000000000000004\n",
      "0.4\n",
      "0.5\n",
      "0.6\n",
      "0.7000000000000001\n",
      "0.8\n",
      "0.9\n"
     ]
    }
   ],
   "source": [
    "for a in np.arange(0.1, 1, 0.1):\n",
    "    print(a)"
   ]
  },
  {
   "cell_type": "code",
   "execution_count": null,
   "metadata": {},
   "outputs": [],
   "source": []
  }
 ],
 "metadata": {
  "kernelspec": {
   "display_name": "Python 3",
   "language": "python",
   "name": "python3"
  },
  "language_info": {
   "codemirror_mode": {
    "name": "ipython",
    "version": 3
   },
   "file_extension": ".py",
   "mimetype": "text/x-python",
   "name": "python",
   "nbconvert_exporter": "python",
   "pygments_lexer": "ipython3",
   "version": "3.6.10"
  }
 },
 "nbformat": 4,
 "nbformat_minor": 2
}
